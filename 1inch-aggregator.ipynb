{
 "cells": [
  {
   "cell_type": "code",
   "execution_count": 78,
   "metadata": {},
   "outputs": [],
   "source": [
    "import requests\n",
    "from datetime import datetime\n",
    "import pandas as pd\n",
    "from ordered_set import OrderedSet\n",
    "import time"
   ]
  },
  {
   "cell_type": "markdown",
   "metadata": {},
   "source": [
    "### Get list of transactions Hashes"
   ]
  },
  {
   "cell_type": "code",
   "execution_count": 3,
   "metadata": {},
   "outputs": [],
   "source": [
    "with open('ethplorer-api-keys.txt') as f:\n",
    "    lines = f.readlines()\n",
    "    \n",
    "ethplorer_api_keys = lines[0].rstrip()\n",
    "ethscan_api_keys = lines[1]"
   ]
  },
  {
   "cell_type": "code",
   "execution_count": 15,
   "metadata": {},
   "outputs": [],
   "source": [
    "r_transactions = requests.get(\"https://api.etherscan.io/api?module=account&action=txlist&address=0x11111112542D85B3EF69AE05771c2dCCff4fAa26&startblock=12262083&endblock=12281283&sort=dsc&apikey={}\".format(ethscan_api_keys))"
   ]
  },
  {
   "cell_type": "code",
   "execution_count": 136,
   "metadata": {},
   "outputs": [],
   "source": [
    "lst_of_hashes = []\n",
    "transactions = r_transactions.json()\n",
    "for i in range(1000): ### Use 100 first len(transactions['result'])\n",
    "    lst_of_hashes.append(transactions['result'][i]['hash'])"
   ]
  },
  {
   "cell_type": "markdown",
   "metadata": {},
   "source": [
    "### Helper Functions"
   ]
  },
  {
   "cell_type": "code",
   "execution_count": 133,
   "metadata": {},
   "outputs": [],
   "source": [
    "def create_output_dict():\n",
    "    output_dict = {}\n",
    "    output_dict['Volume_USD'] = []\n",
    "    output_dict['Pairs'] = []\n",
    "    output_dict['datetime'] = []\n",
    "    output_dict['tx_hash'] = []\n",
    "    \n",
    "    return output_dict"
   ]
  },
  {
   "cell_type": "code",
   "execution_count": 44,
   "metadata": {},
   "outputs": [],
   "source": [
    "def get_datetime(json_file):\n",
    "    \n",
    "    timestamp = json_file['timestamp']\n",
    "    dt_object = datetime.fromtimestamp(timestamp)\n",
    "    \n",
    "    return dt_object"
   ]
  },
  {
   "cell_type": "code",
   "execution_count": 91,
   "metadata": {},
   "outputs": [],
   "source": [
    "def get_transfer(json_file):\n",
    "    \n",
    "    transfers = []\n",
    "    operations_list = json_file['operations']\n",
    "    for i in operations_list:\n",
    "        if i['type'] == 'transfer':\n",
    "\n",
    "            ## Ignore CHI token\n",
    "            if i['tokenInfo']['symbol'] != 'CHI':\n",
    "\n",
    "                new_dict = {}\n",
    "                decimals = int(i['tokenInfo']['decimals'])\n",
    "                new_dict['no_of_tokens'] = int(i['value'])/10**decimals\n",
    "                new_dict['name_of_token'] = i['tokenInfo']['symbol']\n",
    "                new_dict['priority'] = int(i['priority'])\n",
    "\n",
    "                if i['tokenInfo']['price'] == False:\n",
    "                    new_dict['price_in_usd'] = 'no_price'\n",
    "                else:\n",
    "                    new_dict['price_in_usd'] = i['tokenInfo']['price']['rate']\n",
    "                #new_dict['datetime'] = dt_object\n",
    "                transfers.append(new_dict)    \n",
    "    \n",
    "    return transfers"
   ]
  },
  {
   "cell_type": "code",
   "execution_count": 89,
   "metadata": {},
   "outputs": [],
   "source": [
    "def get_volUSD(transfers):\n",
    "    priority_lst = []\n",
    "    #token_lst = Orderedset()\n",
    "    \n",
    "    for idx in transfers:\n",
    "        priority_lst.append(idx['priority'])\n",
    "        #token_lst.add(idx['name_of_token'])\n",
    "\n",
    "    index_min = min(range(len(priority_lst)), key=priority_lst.__getitem__)\n",
    "    \n",
    "    if transfers[index_min]['price_in_usd'] == 'no_price':\n",
    "        Vol_USD = 0\n",
    "        for idx in range(len(transfers)):\n",
    "            if transfers[idx]['price_in_usd'] != 'no_price':\n",
    "                Vol_USD = transfers[idx]['no_of_tokens'] * transfers[idx]['price_in_usd']\n",
    "            if Vol_USD != 0:\n",
    "                break\n",
    "    \n",
    "    else:\n",
    "        Vol_USD = transfers[index_min]['no_of_tokens'] * transfers[index_min]['price_in_usd']\n",
    "    return Vol_USD"
   ]
  },
  {
   "cell_type": "code",
   "execution_count": 119,
   "metadata": {},
   "outputs": [],
   "source": [
    "def Sort_Tuple(tup): \n",
    "  \n",
    "    # reverse = None (Sorts in Ascending order) \n",
    "    # key is set to sort using second element of \n",
    "    # sublist lambda has been used \n",
    "    return(sorted(tup, key = lambda x: x[1])) "
   ]
  },
  {
   "cell_type": "markdown",
   "metadata": {},
   "source": [
    "def get_pair(transfers):\n",
    "    \n",
    "    \n",
    "    priority_lst = []\n",
    "    token_lst = OrderedSet()\n",
    "    priority_dict = {}\n",
    "    \n",
    "    for idx in transfers:\n",
    "        priority_lst.append(idx['priority'])\n",
    "        token_lst.add(idx['name_of_token'])\n",
    "        \n",
    "    token_lst = list(token_lst)\n",
    "    \n",
    "    \n",
    "    if len(token_lst) == 2:\n",
    "        pairing = sorted(token_lst)[0] + \"/\"  + sorted(token_lst)[1]\n",
    "\n",
    "    elif len(token_lst) == len(priority_lst):\n",
    "\n",
    "        index_min = min(range(len(priority_lst)), key=priority_lst.__getitem__)\n",
    "        low = token_lst[index_min]\n",
    "        index_max = max(range(len(priority_lst)), key=priority_lst.__getitem__)\n",
    "        high = token_lst[index_max]\n",
    "        token_pair = [low,high]\n",
    "        sorted_token_lst = sorted(token_pair)\n",
    "        pairing = sorted_token_lst[0] + \"/\"  + sorted_token_lst[1]\n",
    "    \n",
    "    else:\n",
    "        pairing = token_lst[0] +  \"/\" + token_lst[-1]\n",
    "    return pairing"
   ]
  },
  {
   "cell_type": "code",
   "execution_count": 147,
   "metadata": {},
   "outputs": [],
   "source": [
    "def get_pair(transfers):\n",
    "    priority_tuple = []\n",
    "    for idx in transfers:\n",
    "        priority_tuple.append((idx['name_of_token'],idx['priority']))\n",
    "\n",
    "\n",
    "    sorted_tuples = Sort_Tuple(priority_tuple)\n",
    "    \n",
    "    if sorted_tuples[0][0] != sorted_tuples[-1][0]:\n",
    "\n",
    "        pairing = sorted_tuples[0][0] +  \"/\" + sorted_tuples[-1][0]\n",
    "    \n",
    "    else:\n",
    "        pairing = \"not_tracked\"\n",
    "    \n",
    "    return pairing"
   ]
  },
  {
   "cell_type": "code",
   "execution_count": 130,
   "metadata": {},
   "outputs": [],
   "source": [
    "def output_dict_append(output_dict):\n",
    "    output_dict['datetime'].append(dt_object)\n",
    "    output_dict['Pairs'].append(pairing)\n",
    "    output_dict['Volume_USD'].append(volUSD)\n",
    "    output_dict['tx_hash'].append(tx_hash)\n",
    "    "
   ]
  },
  {
   "cell_type": "code",
   "execution_count": 79,
   "metadata": {},
   "outputs": [],
   "source": [
    "import time"
   ]
  },
  {
   "cell_type": "code",
   "execution_count": 86,
   "metadata": {},
   "outputs": [
    {
     "data": {
      "text/plain": [
       "'0xfb7b930d61aac30e06bb0d8aaf05185960660e9af4a038649e3ab88560884602'"
      ]
     },
     "execution_count": 86,
     "metadata": {},
     "output_type": "execute_result"
    }
   ],
   "source": [
    "tx_hash"
   ]
  },
  {
   "cell_type": "markdown",
   "metadata": {},
   "source": [
    "### Get Transactions Hashes"
   ]
  },
  {
   "cell_type": "code",
   "execution_count": 158,
   "metadata": {},
   "outputs": [],
   "source": [
    "lst_of_hashes = []\n",
    "start_block = 12282136\n",
    "end_block = start_block + 500\n",
    "counter = 0\n",
    "while start_block >= (12282136 - 6400*3):\n",
    "\n",
    "\n",
    "    r_transactions = requests.get('https://api.etherscan.io/api?module=account&action=txlist&address=0x11111112542D85B3EF69AE05771c2dCCff4fAa26&startblock={}&endblock={}&page=1&offset=0&sort=desc&apikey={}'.format(start_block,end_block,ethscan_api_keys))\n",
    "    jsonfile = r_transactions.json()['result'] \n",
    "    for item in jsonfile:\n",
    "        lst_of_hashes.append(item['hash'])\n",
    "    \n",
    "    start_block -= 500\n",
    "    end_block = start_block + 500\n",
    "    counter += 1\n",
    "    \n",
    "    if counter % 5 == 0:\n",
    "        time.sleep(1)"
   ]
  },
  {
   "cell_type": "markdown",
   "metadata": {},
   "source": [
    "### Main Function"
   ]
  },
  {
   "cell_type": "code",
   "execution_count": 173,
   "metadata": {},
   "outputs": [],
   "source": [
    "output_dict = create_output_dict()\n",
    "\n",
    "counter = 0\n",
    "lst_of_hashes_test =['0x2c40c0ea0d96e4b200f8e7fbd77aa8a9a0e7b1c860cde05aa0e6c6015a2df26b']\n",
    "for txh in lst_of_hashes:\n",
    "    counter += 1\n",
    "    tx_hash = txh\n",
    "    r = requests.get('https://api.ethplorer.io/getTxInfo/{}?apiKey={}'.format(tx_hash,ethplorer_api_keys))\n",
    "    json_file = r.json()\n",
    "    \n",
    "    if json_file['success'] == False:\n",
    "        continue\n",
    "        \n",
    "    try:\n",
    "        var = json_file['operations']\n",
    "    except KeyError:\n",
    "        continue\n",
    "        \n",
    "    ### Get Datetime\n",
    "    dt_object = get_datetime(json_file)\n",
    "    \n",
    "    ### Get Transfers\n",
    "    transfers = get_transfer(json_file)\n",
    "    \n",
    "    if len(transfers) == 0:\n",
    "        continue\n",
    "    ### Get priority\n",
    "    \n",
    "    volUSD = get_volUSD(transfers)\n",
    "    \n",
    "    \n",
    "    ### Get pair\n",
    "    \n",
    "    pairing = get_pair(transfers)\n",
    "\n",
    "    output_dict_append(output_dict)\n",
    "    \n",
    "    if counter % 10 == 0:\n",
    "        time.sleep(0.01)"
   ]
  },
  {
   "cell_type": "code",
   "execution_count": 178,
   "metadata": {},
   "outputs": [],
   "source": [
    "df = pd.DataFrame.from_dict(output_dict) "
   ]
  },
  {
   "cell_type": "code",
   "execution_count": 179,
   "metadata": {},
   "outputs": [],
   "source": [
    "df['date'] = df['datetime'].dt.date"
   ]
  },
  {
   "cell_type": "code",
   "execution_count": 180,
   "metadata": {},
   "outputs": [],
   "source": [
    "sample = df[['date','Pairs','Volume_USD']].groupby(['date','Pairs']).sum()"
   ]
  },
  {
   "cell_type": "markdown",
   "metadata": {},
   "source": [
    "### Total Daily Volume for all pairs in USD"
   ]
  },
  {
   "cell_type": "code",
   "execution_count": 191,
   "metadata": {},
   "outputs": [
    {
     "data": {
      "text/html": [
       "<div>\n",
       "<style scoped>\n",
       "    .dataframe tbody tr th:only-of-type {\n",
       "        vertical-align: middle;\n",
       "    }\n",
       "\n",
       "    .dataframe tbody tr th {\n",
       "        vertical-align: top;\n",
       "    }\n",
       "\n",
       "    .dataframe thead th {\n",
       "        text-align: right;\n",
       "    }\n",
       "</style>\n",
       "<table border=\"1\" class=\"dataframe\">\n",
       "  <thead>\n",
       "    <tr style=\"text-align: right;\">\n",
       "      <th></th>\n",
       "      <th></th>\n",
       "      <th>Volume_USD</th>\n",
       "    </tr>\n",
       "    <tr>\n",
       "      <th>date</th>\n",
       "      <th>Pairs</th>\n",
       "      <th></th>\n",
       "    </tr>\n",
       "  </thead>\n",
       "  <tbody>\n",
       "    <tr>\n",
       "      <th rowspan=\"5\" valign=\"top\">2021-04-18</th>\n",
       "      <th>1INCH/ARCX</th>\n",
       "      <td>2.452111e+04</td>\n",
       "    </tr>\n",
       "    <tr>\n",
       "      <th>1INCH/COMP</th>\n",
       "      <td>4.163312e+04</td>\n",
       "    </tr>\n",
       "    <tr>\n",
       "      <th>1INCH/DAI</th>\n",
       "      <td>1.248293e+04</td>\n",
       "    </tr>\n",
       "    <tr>\n",
       "      <th>1INCH/USDC</th>\n",
       "      <td>3.137729e+05</td>\n",
       "    </tr>\n",
       "    <tr>\n",
       "      <th>1INCH/USDT</th>\n",
       "      <td>1.709982e+05</td>\n",
       "    </tr>\n",
       "    <tr>\n",
       "      <th>...</th>\n",
       "      <th>...</th>\n",
       "      <td>...</td>\n",
       "    </tr>\n",
       "    <tr>\n",
       "      <th rowspan=\"5\" valign=\"top\">2021-04-21</th>\n",
       "      <th>cBSN/USDC</th>\n",
       "      <td>8.793480e+04</td>\n",
       "    </tr>\n",
       "    <tr>\n",
       "      <th>not_tracked</th>\n",
       "      <td>1.540345e+07</td>\n",
       "    </tr>\n",
       "    <tr>\n",
       "      <th>⚗️/UNI</th>\n",
       "      <td>1.546270e+03</td>\n",
       "    </tr>\n",
       "    <tr>\n",
       "      <th>⚗️/USDT</th>\n",
       "      <td>4.222126e+03</td>\n",
       "    </tr>\n",
       "    <tr>\n",
       "      <th>⚗️/WETH</th>\n",
       "      <td>2.554247e+02</td>\n",
       "    </tr>\n",
       "  </tbody>\n",
       "</table>\n",
       "<p>5077 rows × 1 columns</p>\n",
       "</div>"
      ],
      "text/plain": [
       "                          Volume_USD\n",
       "date       Pairs                    \n",
       "2021-04-18 1INCH/ARCX   2.452111e+04\n",
       "           1INCH/COMP   4.163312e+04\n",
       "           1INCH/DAI    1.248293e+04\n",
       "           1INCH/USDC   3.137729e+05\n",
       "           1INCH/USDT   1.709982e+05\n",
       "...                              ...\n",
       "2021-04-21 cBSN/USDC    8.793480e+04\n",
       "           not_tracked  1.540345e+07\n",
       "           ⚗️/UNI       1.546270e+03\n",
       "           ⚗️/USDT      4.222126e+03\n",
       "           ⚗️/WETH      2.554247e+02\n",
       "\n",
       "[5077 rows x 1 columns]"
      ]
     },
     "execution_count": 191,
     "metadata": {},
     "output_type": "execute_result"
    }
   ],
   "source": [
    "sample"
   ]
  },
  {
   "cell_type": "markdown",
   "metadata": {},
   "source": [
    "### Total Daily Volume in USD"
   ]
  },
  {
   "cell_type": "code",
   "execution_count": 190,
   "metadata": {},
   "outputs": [
    {
     "data": {
      "text/html": [
       "<div>\n",
       "<style scoped>\n",
       "    .dataframe tbody tr th:only-of-type {\n",
       "        vertical-align: middle;\n",
       "    }\n",
       "\n",
       "    .dataframe tbody tr th {\n",
       "        vertical-align: top;\n",
       "    }\n",
       "\n",
       "    .dataframe thead th {\n",
       "        text-align: right;\n",
       "    }\n",
       "</style>\n",
       "<table border=\"1\" class=\"dataframe\">\n",
       "  <thead>\n",
       "    <tr style=\"text-align: right;\">\n",
       "      <th></th>\n",
       "      <th>Volume_USD</th>\n",
       "    </tr>\n",
       "    <tr>\n",
       "      <th>date</th>\n",
       "      <th></th>\n",
       "    </tr>\n",
       "  </thead>\n",
       "  <tbody>\n",
       "    <tr>\n",
       "      <th>2021-04-18</th>\n",
       "      <td>6.606013e+07</td>\n",
       "    </tr>\n",
       "    <tr>\n",
       "      <th>2021-04-19</th>\n",
       "      <td>2.345165e+08</td>\n",
       "    </tr>\n",
       "    <tr>\n",
       "      <th>2021-04-20</th>\n",
       "      <td>2.096032e+08</td>\n",
       "    </tr>\n",
       "    <tr>\n",
       "      <th>2021-04-21</th>\n",
       "      <td>1.241235e+08</td>\n",
       "    </tr>\n",
       "  </tbody>\n",
       "</table>\n",
       "</div>"
      ],
      "text/plain": [
       "              Volume_USD\n",
       "date                    \n",
       "2021-04-18  6.606013e+07\n",
       "2021-04-19  2.345165e+08\n",
       "2021-04-20  2.096032e+08\n",
       "2021-04-21  1.241235e+08"
      ]
     },
     "execution_count": 190,
     "metadata": {},
     "output_type": "execute_result"
    }
   ],
   "source": [
    "df[['date','Volume_USD']].groupby(['date']).sum()"
   ]
  }
 ],
 "metadata": {
  "kernelspec": {
   "display_name": "Python 3",
   "language": "python",
   "name": "python3"
  },
  "language_info": {
   "codemirror_mode": {
    "name": "ipython",
    "version": 3
   },
   "file_extension": ".py",
   "mimetype": "text/x-python",
   "name": "python",
   "nbconvert_exporter": "python",
   "pygments_lexer": "ipython3",
   "version": "3.8.3"
  }
 },
 "nbformat": 4,
 "nbformat_minor": 4
}
